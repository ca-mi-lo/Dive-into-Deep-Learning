{
 "cells": [
  {
   "cell_type": "markdown",
   "id": "6d85114b-6c1c-4104-89a5-f1a0920c7fed",
   "metadata": {
    "tags": []
   },
   "source": [
    "### 6.1. Layers and Modules\n",
    "\n",
    "While you might think that neurons, layers, and models give us enough abstractions to go about our business, it turns out that we often find it convenient to speak about components that are larger than an individual layer but smaller than the entire model. For example, the ResNet-152 architecture, which is wildly popular in computer vision, possesses hundreds of layers. These layers consist of repeating patterns of groups of layers. Implementing such a network one layer at a time can grow tedious. This concern is not just hypothetical—such design patterns are common in practice. The ResNet architecture mentioned above won the 2015 ImageNet and COCO computer vision competitions for both recognition and detection (He et al., 2016) and remains a go-to architecture for many vision tasks. Similar architectures in which layers are arranged in various repeating patterns are now ubiquitous in other domains, including natural language processing and speech."
   ]
  },
  {
   "cell_type": "markdown",
   "id": "fae10834-7dd4-4767-9b9d-10c4dd3b0bf9",
   "metadata": {},
   "source": [
    "To implement these complex networks, we introduce the concept of a neural network module. A module could describe a single layer, a component consisting of multiple layers, or the entire model itself! One benefit of working with the module abstraction is that they can be combined into larger artifacts, often recursively. This is illustrated in Fig. 6.1.1. By defining code to generate modules of arbitrary complexity on demand, we can write surprisingly compact code and still implement complex neural networks.\n",
    "\n",
    "![Alt text](./blocks.svg)\n",
    "\n",
    "\n",
    "Fig. 6.1.1 Multiple layers are combined into modules, forming repeating patterns of larger models."
   ]
  },
  {
   "cell_type": "markdown",
   "id": "526b57f6-fb0e-4982-ae12-4aa9a54f4e24",
   "metadata": {},
   "source": [
    "From a programming standpoint, a module is represented by a class. Any subclass of it must define a forward propagation method that transforms its input into output and must store any necessary parameters. Note that some modules do not require any parameters at all. Finally a module must possess a backpropagation method, for purposes of calculating gradients. Fortunately, due to some behind-the-scenes magic supplied by the auto differentiation (introduced in Section 2.5) when defining our own module, we only need to worry about parameters and the forward propagation method."
   ]
  },
  {
   "cell_type": "code",
   "execution_count": 3,
   "id": "a90f8606-6b5f-48f5-837e-c5e15d73373b",
   "metadata": {
    "tags": []
   },
   "outputs": [
    {
     "name": "stderr",
     "output_type": "stream",
     "text": [
      "2024-02-26 19:12:39.245554: E external/local_xla/xla/stream_executor/cuda/cuda_dnn.cc:9261] Unable to register cuDNN factory: Attempting to register factory for plugin cuDNN when one has already been registered\n",
      "2024-02-26 19:12:39.245584: E external/local_xla/xla/stream_executor/cuda/cuda_fft.cc:607] Unable to register cuFFT factory: Attempting to register factory for plugin cuFFT when one has already been registered\n",
      "2024-02-26 19:12:39.246365: E external/local_xla/xla/stream_executor/cuda/cuda_blas.cc:1515] Unable to register cuBLAS factory: Attempting to register factory for plugin cuBLAS when one has already been registered\n",
      "2024-02-26 19:12:39.251480: I tensorflow/core/platform/cpu_feature_guard.cc:182] This TensorFlow binary is optimized to use available CPU instructions in performance-critical operations.\n",
      "To enable the following instructions: AVX2 FMA, in other operations, rebuild TensorFlow with the appropriate compiler flags.\n",
      "2024-02-26 19:12:39.983422: W tensorflow/compiler/tf2tensorrt/utils/py_utils.cc:38] TF-TRT Warning: Could not find TensorRT\n"
     ]
    }
   ],
   "source": [
    "import tensorflow as tf"
   ]
  },
  {
   "cell_type": "code",
   "execution_count": 4,
   "id": "213d3f43-a977-4d96-8cd9-77677a9450b8",
   "metadata": {
    "tags": []
   },
   "outputs": [
    {
     "data": {
      "text/plain": [
       "TensorShape([2, 10])"
      ]
     },
     "execution_count": 4,
     "metadata": {},
     "output_type": "execute_result"
    }
   ],
   "source": [
    "net = tf.keras.models.Sequential([\n",
    "    tf.keras.layers.Dense(256, activation=tf.nn.relu),\n",
    "    tf.keras.layers.Dense(10),\n",
    "])\n",
    "\n",
    "X = tf.random.uniform((2, 20))\n",
    "net(X).shape"
   ]
  },
  {
   "cell_type": "markdown",
   "id": "db5b4044-22d8-4f6e-98f2-ae9ff487cd8c",
   "metadata": {},
   "source": [
    "In this example, we constructed our model by instantiating an keras.models.Sequential, with layers in the order that they should be executed passed as arguments. In short, Sequential defines a special kind of keras.Model, the class that presents a module in Keras. It maintains an ordered list of constituent Models. Note that each of the two fully connected layers is an instance of the Dense class which is itself a subclass of Model. The forward propagation (call) method is also remarkably simple: it chains each module in the list together, passing the output of each as input to the next. Note that until now, we have been invoking our models via the construction net(X) to obtain their outputs. This is actually just shorthand for net.call(X), a slick Python trick achieved via the module class’s __call__ method."
   ]
  },
  {
   "cell_type": "markdown",
   "id": "514ca3f9-22bb-4ae5-8200-dc190f95be26",
   "metadata": {
    "tags": []
   },
   "source": [
    "### 6.1.1. A Custom Module\n",
    "Perhaps the easiest way to develop intuition about how a module works is to implement one ourselves. Before we do that, we briefly summarize the basic functionality that each module must provide:\n",
    "\n",
    "Ingest input data as arguments to its forward propagation method.\n",
    "\n",
    "Generate an output by having the forward propagation method return a value. Note that the output may have a different shape from the input. For example, the first fully connected layer in our model above ingests an input of arbitrary dimension but returns an output of dimension 256.\n",
    "\n",
    "Calculate the gradient of its output with respect to its input, which can be accessed via its backpropagation method. Typically this happens automatically.\n",
    "\n",
    "Store and provide access to those parameters necessary for executing the forward propagation computation.\n",
    "\n",
    "Initialize model parameters as needed.\n",
    "\n",
    "In the following snippet, we code up a module from scratch corresponding to an MLP with one hidden layer with 256 hidden units, and a 10-dimensional output layer. Note that the MLP class below inherits the class that represents a module. We will heavily rely on the parent class’s methods, supplying only our own constructor (the __init__ method in Python) and the forward propagation method."
   ]
  },
  {
   "cell_type": "code",
   "execution_count": 5,
   "id": "099d2169-7fe0-4d72-9f3c-64da072bfdb0",
   "metadata": {
    "tags": []
   },
   "outputs": [],
   "source": [
    "class MLP(tf.keras.Model):\n",
    "    def __init__(self):\n",
    "        # Call the constructor of the parent class tf.keras.Model to perform\n",
    "        # the necessary initialization\n",
    "        super().__init__()\n",
    "        self.hidden = tf.keras.layers.Dense(units=256, activation=tf.nn.relu)\n",
    "        self.out = tf.keras.layers.Dense(units=10)\n",
    "\n",
    "    # Define the forward propagation of the model, that is, how to return the\n",
    "    # required model output based on the input X\n",
    "    def call(self, X):\n",
    "        return self.out(self.hidden((X)))"
   ]
  },
  {
   "cell_type": "code",
   "execution_count": 6,
   "id": "13171fea-6a04-4229-8519-6a2a091ab7aa",
   "metadata": {
    "tags": []
   },
   "outputs": [
    {
     "data": {
      "text/plain": [
       "__main__.MLP"
      ]
     },
     "execution_count": 6,
     "metadata": {},
     "output_type": "execute_result"
    }
   ],
   "source": [
    "MLP"
   ]
  },
  {
   "cell_type": "markdown",
   "id": "fddbf19d-71d7-4896-8a1c-33b2f5107d7f",
   "metadata": {},
   "source": [
    "Let’s first focus on the forward propagation method. Note that it takes X as input, calculates the hidden representation with the activation function applied, and outputs its logits. In this MLP implementation, both layers are instance variables. To see why this is reasonable, imagine instantiating two MLPs, net1 and net2, and training them on different data. Naturally, we would expect them to represent two different learned models.\n",
    "\n",
    "We instantiate the MLP’s layers in the constructor and subsequently invoke these layers on each call to the forward propagation method. Note a few key details. First, our customized __init__ method invokes the parent class’s __init__ method via super().__init__() sparing us the pain of restating boilerplate code applicable to most modules. We then instantiate our two fully connected layers, assigning them to self.hidden and self.out. Note that unless we implement a new layer, we need not worry about the backpropagation method or parameter initialization. The system will generate these methods automatically. Let’s try this out."
   ]
  },
  {
   "cell_type": "code",
   "execution_count": 7,
   "id": "be6c7c5c-c806-4b4d-9aa8-a4c5b147c66a",
   "metadata": {
    "tags": []
   },
   "outputs": [
    {
     "data": {
      "text/plain": [
       "TensorShape([2, 10])"
      ]
     },
     "execution_count": 7,
     "metadata": {},
     "output_type": "execute_result"
    }
   ],
   "source": [
    "net = MLP()\n",
    "net(X).shape"
   ]
  },
  {
   "cell_type": "markdown",
   "id": "4a97ab2b-1630-4536-9368-dba52a33c18a",
   "metadata": {},
   "source": [
    "A key virtue of the module abstraction is its versatility. We can subclass a module to create layers (such as the fully connected layer class), entire models (such as the MLP class above), or various components of intermediate complexity. We exploit this versatility throughout the coming chapters, such as when addressing convolutional neural networks."
   ]
  },
  {
   "cell_type": "markdown",
   "id": "9b58a6c9-282c-474e-8dc2-1f3f94ee71bd",
   "metadata": {},
   "source": [
    "### 6.1.2. The Sequential Module\n",
    "We can now take a closer look at how the Sequential class works. Recall that Sequential was designed to daisy-chain other modules together. To build our own simplified MySequential, we just need to define two key methods:\n",
    "\n",
    "1. A method for appending modules one by one to a list.\n",
    "\n",
    "2. A forward propagation method for passing an input through the chain of modules, in the same order as they were appended.\n",
    "\n",
    "The following MySequential class delivers the same functionality of the default Sequential class."
   ]
  },
  {
   "cell_type": "code",
   "execution_count": 8,
   "id": "15e43df9-6fa2-48db-a100-275a314fda92",
   "metadata": {
    "tags": []
   },
   "outputs": [],
   "source": [
    "class MySequential(tf.keras.Model):\n",
    "    def __init__(self, *args):\n",
    "        super().__init__()\n",
    "        self.modules = args\n",
    "\n",
    "    def call(self, X):\n",
    "        for module in self.modules:\n",
    "            X = module(X)\n",
    "        return X"
   ]
  },
  {
   "cell_type": "markdown",
   "id": "c048f1e0-4555-4e55-99be-8846adc109bc",
   "metadata": {},
   "source": [
    "When our MySequential’s forward propagation method is invoked, each added module is executed in the order in which they were added. We can now reimplement an MLP using our MySequential class."
   ]
  },
  {
   "cell_type": "code",
   "execution_count": 20,
   "id": "46ee5304-c50d-4875-9884-2c662ebca050",
   "metadata": {
    "tags": []
   },
   "outputs": [
    {
     "data": {
      "text/plain": [
       "TensorShape([2, 10])"
      ]
     },
     "execution_count": 20,
     "metadata": {},
     "output_type": "execute_result"
    }
   ],
   "source": [
    "net = MySequential(\n",
    "    tf.keras.layers.Dense(units=256, activation=tf.nn.relu),\n",
    "    tf.keras.layers.Dense(10))\n",
    "net(X).shape\n",
    "# >>> TensorShape([2, 10]); which makes sense: \n",
    "#  -- \"dim 2\" comes from the shape of X (tf.random.uniform((2, 20)))\n",
    "# #  -- \"dim 10\" comes from tf.keras.layers.Dense(10))"
   ]
  },
  {
   "cell_type": "code",
   "execution_count": 22,
   "id": "61151e98-6f4d-466a-bbe8-86a88df7513a",
   "metadata": {
    "tags": []
   },
   "outputs": [
    {
     "data": {
      "text/plain": [
       "TensorShape([2, 10])"
      ]
     },
     "execution_count": 22,
     "metadata": {},
     "output_type": "execute_result"
    }
   ],
   "source": [
    "net = MySequential(\n",
    "    tf.keras.layers.Dense(units=256, activation=tf.nn.relu),\n",
    "    tf.keras.layers.Dense(10))\n",
    "net(X).shape"
   ]
  },
  {
   "cell_type": "markdown",
   "id": "218b5171-0cdd-47e7-a287-5e26e134681f",
   "metadata": {
    "tags": []
   },
   "source": [
    "6.1.3. Executing Code in the Forward Propagation Method\n",
    "The Sequential class makes model construction easy, allowing us to assemble new architectures without having to define our own class. However, not all architectures are simple daisy chains. When greater flexibility is required, we will want to define our own blocks. For example, we might want to execute Python’s control flow within the forward propagation method. Moreover, we might want to perform arbitrary mathematical operations, not simply relying on predefined neural network layers.\n",
    "\n",
    "You may have noticed that until now, all of the operations in our networks have acted upon our network’s activations and its parameters. Sometimes, however, we might want to incorporate terms that are neither the result of previous layers nor updatable parameters. We call these constant parameters. Say for example that we want a layer that calculates the function $f(\\boldsymbol{x}, \\boldsymbol{w}) = c \\boldsymbol{w}^{\\top} \\boldsymbol{x}\n",
    "$\n",
    ", where $\\boldsymbol{x}$\n",
    " is the input, \n",
    " $\\boldsymbol{w}$ is our parameter, and $c$\n",
    " is some specified constant that is not updated during optimization. So we implement a FixedHiddenMLP class as follows."
   ]
  },
  {
   "cell_type": "code",
   "execution_count": 23,
   "id": "11b37110-6b6c-42ab-af7f-b7a50c6216b9",
   "metadata": {
    "tags": []
   },
   "outputs": [],
   "source": [
    "class FixedHiddenMLP(tf.keras.Model):\n",
    "    def __init__(self):\n",
    "        super().__init__()\n",
    "        self.flatten = tf.keras.layers.Flatten()\n",
    "        # Random weight parameters created with tf.constant are not updated\n",
    "        # during training (i.e., constant parameters)\n",
    "        self.rand_weight = tf.constant(tf.random.uniform((20, 20)))\n",
    "        self.dense = tf.keras.layers.Dense(20, activation=tf.nn.relu)\n",
    "\n",
    "    def call(self, inputs):\n",
    "        X = self.flatten(inputs)\n",
    "        # Use the created constant parameters, as well as the relu and\n",
    "        # matmul functions\n",
    "        X = tf.nn.relu(tf.matmul(X, self.rand_weight) + 1)\n",
    "        # Reuse the fully connected layer. This is equivalent to sharing\n",
    "        # parameters with two fully connected layers\n",
    "        X = self.dense(X)\n",
    "        # Control flow\n",
    "        # This may not be useful in real life, its just an example\n",
    "        while tf.reduce_sum(tf.math.abs(X)) > 1:\n",
    "            X /= 2\n",
    "        return tf.reduce_sum(X)"
   ]
  },
  {
   "cell_type": "markdown",
   "id": "d8c55ae0-fcba-45a0-995e-0bcf740c87f1",
   "metadata": {},
   "source": [
    "In this model, we implement a hidden layer whose weights (self.rand_weight) are initialized randomly at instantiation and are thereafter constant. This weight is not a model parameter and thus it is never updated by backpropagation. The network then passes the output of this “fixed” layer through a fully connected layer.\n",
    "\n",
    "Note that before returning the output, our model did something unusual. We ran a while-loop, testing on the condition its l1 norm is larger than 1, and dividing our output vector by 2 until it satisfied the condition. Finally, we returned the sum of the entries in X. To our knowledge, no standard neural network performs this operation. Note that this particular operation may not be useful in any real-world task. Our point is only to show you how to integrate arbitrary code into the flow of your neural network computations."
   ]
  },
  {
   "cell_type": "code",
   "execution_count": 24,
   "id": "9cec72ae-e1a8-48b8-9a59-8dd0ba6d2ee4",
   "metadata": {
    "tags": []
   },
   "outputs": [
    {
     "data": {
      "text/plain": [
       "<tf.Tensor: shape=(), dtype=float32, numpy=0.5014087>"
      ]
     },
     "execution_count": 24,
     "metadata": {},
     "output_type": "execute_result"
    }
   ],
   "source": [
    "net = FixedHiddenMLP()\n",
    "net(X)"
   ]
  },
  {
   "cell_type": "markdown",
   "id": "9f061ede-c945-4e93-a821-11a82169868f",
   "metadata": {},
   "source": [
    "We can mix and match various ways of assembling modules together. In the following example, we nest modules in some creative ways."
   ]
  },
  {
   "cell_type": "code",
   "execution_count": 25,
   "id": "d0c03cb8-7097-480c-9c7d-42ce224cd5a1",
   "metadata": {
    "tags": []
   },
   "outputs": [
    {
     "data": {
      "text/plain": [
       "<tf.Tensor: shape=(), dtype=float32, numpy=0.9779261>"
      ]
     },
     "execution_count": 25,
     "metadata": {},
     "output_type": "execute_result"
    }
   ],
   "source": [
    "class NestMLP(tf.keras.Model):\n",
    "    def __init__(self):\n",
    "        super().__init__()\n",
    "        self.net = tf.keras.Sequential()\n",
    "        self.net.add(tf.keras.layers.Dense(64, activation=tf.nn.relu))\n",
    "        self.net.add(tf.keras.layers.Dense(32, activation=tf.nn.relu))\n",
    "        self.dense = tf.keras.layers.Dense(16, activation=tf.nn.relu)\n",
    "\n",
    "    def call(self, inputs):\n",
    "        return self.dense(self.net(inputs))\n",
    "\n",
    "chimera = tf.keras.Sequential()\n",
    "chimera.add(NestMLP())\n",
    "chimera.add(tf.keras.layers.Dense(20))\n",
    "chimera.add(FixedHiddenMLP())\n",
    "chimera(X)"
   ]
  },
  {
   "cell_type": "markdown",
   "id": "be49433c-f492-4a94-a0db-a41923265746",
   "metadata": {
    "tags": []
   },
   "source": [
    "### 6.1.4. Summary\n",
    "Individual layers can be modules. Many layers can comprise a module. Many modules can comprise a module.\n",
    "\n",
    "A module can contain code. Modules take care of lots of housekeeping, including parameter initialization and backpropagation. Sequential concatenations of layers and modules are handled by the Sequential module.\n",
    "\n",
    "### 6.1.5. Exercises¶\n",
    "1. What kinds of problems will occur if you change MySequential to store modules in a Python list?\n",
    "A = It won´t unpack the elements of the this\n",
    "2. Implement a module that takes two modules as an argument, say net1 and net2 and returns the concatenated output of both networks in the forward propagation. This is also called a parallel module.\n",
    "\n",
    "3. Assume that you want to concatenate multiple instances of the same network. Implement a factory function that generates multiple instances of the same module and build a larger network from it."
   ]
  },
  {
   "cell_type": "code",
   "execution_count": null,
   "id": "c4b56a12-0399-4e44-a67d-1b64f7e5bae6",
   "metadata": {},
   "outputs": [],
   "source": []
  }
 ],
 "metadata": {
  "kernelspec": {
   "display_name": "Python 3 (ipykernel)",
   "language": "python",
   "name": "python3"
  },
  "language_info": {
   "codemirror_mode": {
    "name": "ipython",
    "version": 3
   },
   "file_extension": ".py",
   "mimetype": "text/x-python",
   "name": "python",
   "nbconvert_exporter": "python",
   "pygments_lexer": "ipython3",
   "version": "3.10.9"
  }
 },
 "nbformat": 4,
 "nbformat_minor": 5
}
